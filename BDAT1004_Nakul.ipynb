{
  "nbformat": 4,
  "nbformat_minor": 0,
  "metadata": {
    "colab": {
      "provenance": []
    },
    "kernelspec": {
      "name": "python3",
      "display_name": "Python 3"
    },
    "language_info": {
      "name": "python"
    }
  },
  "cells": [
    {
      "cell_type": "markdown",
      "source": [
        "**Question 1**\n",
        "\n",
        "What data type is each of the following (evaluate where necessary)?\n",
        "```\n",
        "5\n",
        "5.0\n",
        "5 > 1\n",
        "'5'\n",
        "5 * 2\n",
        "'5' * 2\n",
        "'5' + '2'\n",
        "5 / 2\n",
        "5 % 2\n",
        "{5, 2, 1}\n",
        "5 == 3\n",
        "Pi (the number)\n",
        "```\n",
        "\n",
        "\n"
      ],
      "metadata": {
        "id": "2XDpJjI7wqTe"
      }
    },
    {
      "cell_type": "markdown",
      "source": [
        "### **Ans.** Here's the data type for each of the given expressions:\n",
        "\n",
        "* 5: Integer\n",
        "* 5.0: Floating-point number\n",
        "* 5 > 1: Boolean (True)\n",
        "* '5': String\n",
        "* 5 * 2: Integer\n",
        "* '5' * 2: String\n",
        "* '5' + '2': String\n",
        "* 5 / 2: Floating-point number\n",
        "* 5 % 2: Integer\n",
        "* {5, 2, 1}: Set (assuming this is meant to represent a set)\n",
        "* 5 == 3: Boolean (False)\n",
        "* Pi (the number): Floating-point number\n",
        "\n",
        "In Python we can use type() function to check the datatype of variable.\n",
        " For example:\n",
        "\n",
        "\n",
        "\n",
        "```\n",
        ">>>type(5)\n",
        "<class 'int'>\n",
        "\n",
        ">>>type(5.0)\n",
        "<class 'float'>\n",
        "\n",
        "```\n",
        "\n"
      ],
      "metadata": {
        "id": "f_Cr5zvD7CJx"
      }
    },
    {
      "cell_type": "markdown",
      "source": [
        "## **Question 2**\n",
        "\n",
        "Write (and evaluate) python expressions that answer these questions:\n",
        "\n",
        "a. How many letters are there in 'Supercalifragilisticexpialidocious'?\n",
        "\n",
        "b. Does 'Supercalifragilisticexpialidocious' contain 'ice' as a substring?\n",
        "\n",
        "c. Which of the following words is the longest:\n",
        "Supercalifragilisticexpialidocious, Honorificabilitudinitatibus, or Bababadalgharaghtakamminarronnkonn?\n",
        "\n",
        "d. Which composer comes first in the dictionary: 'Berlioz', 'Borodin', 'Brian',\n",
        "'Bartok', 'Bellini', 'Buxtehude', 'Bernstein'. Which one comes last?"
      ],
      "metadata": {
        "id": "u_92eBbj8KAK"
      }
    },
    {
      "cell_type": "code",
      "source": [
        "#a.\n",
        "word = 'Supercalifragilisticexpialidocious'\n",
        "count = 0\n",
        "for letter in word:\n",
        "    if letter.isalpha():\n",
        "        count += 1\n",
        "print('a.',count)\n",
        "\n",
        "#b.\n",
        "print('b.','ice' in word)\n",
        "\n",
        "#c\n",
        "\n",
        "words = ['Supercalifragilisticexpialidocious', 'Honorificabilitudinitatibus', 'Bababadalgharaghtakamminarronnkonn']\n",
        "longest_word = ''\n",
        "max_length = 0\n",
        "\n",
        "for word in words:\n",
        "    length = 0\n",
        "    for char in word:\n",
        "        length += 1\n",
        "    if length > max_length:\n",
        "        max_length = length\n",
        "        longest_word = word\n",
        "\n",
        "print('c.',longest_word)\n",
        "\n",
        "#d.\n",
        "composers = ['Berlioz', 'Borodin', 'Brian', 'Bartok', 'Bellini', 'Buxtehude', 'Bernstein']\n",
        "\n",
        "firstcomposer = min(composers)\n",
        "lastcomposer = max(composers)\n",
        "\n",
        "print(\"First composer:\", firstcomposer)\n",
        "print(\"Last composer:\", lastcomposer)\n"
      ],
      "metadata": {
        "colab": {
          "base_uri": "https://localhost:8080/"
        },
        "id": "yNQTHJeJ7Bg5",
        "outputId": "76fdb70d-e9df-4fa6-bd43-a9265e846157"
      },
      "execution_count": null,
      "outputs": [
        {
          "output_type": "stream",
          "name": "stdout",
          "text": [
            "a. 34\n",
            "b. True\n",
            "c. Supercalifragilisticexpialidocious\n",
            "First composer: Bartok\n",
            "Last composer: Buxtehude\n"
          ]
        }
      ]
    },
    {
      "cell_type": "markdown",
      "source": [
        "## **Question 3**\n",
        "\n",
        "Implement function triangleArea(a,b,c) that takes as input the lengths of the 3\n",
        "sides of a triangle and returns the area of the triangle. By Heron's formula, the area\n",
        "of a triangle with side lengths a, b, and c is\n",
        "\n",
        "√s(s-a)(s-b)(s-c)\n",
        "\n",
        "where\n",
        "s = (a+b+c)/2.\n",
        "```\n",
        ">>> triangleArea(2,2,2)\n",
        "1.7320508075688772\n",
        "```\n",
        "\n",
        "\n"
      ],
      "metadata": {
        "id": "KCfyqL4u-ziP"
      }
    },
    {
      "cell_type": "code",
      "source": [
        "import math\n",
        "\n",
        "def triangleArea(a, b, c):\n",
        "    # Calculate the semi-perimeter\n",
        "    s = (a + b + c) / 2\n",
        "\n",
        "    # Calculate the area using Heron's formula\n",
        "    area = math.sqrt(s * (s - a) * (s - b) * (s - c))\n",
        "\n",
        "    return area\n",
        "\n",
        "triangleArea(2,2,2)\n"
      ],
      "metadata": {
        "colab": {
          "base_uri": "https://localhost:8080/"
        },
        "id": "wK8tIhIm86SQ",
        "outputId": "941313fc-0b98-4de8-8fe6-064cd6f7cb29"
      },
      "execution_count": null,
      "outputs": [
        {
          "output_type": "execute_result",
          "data": {
            "text/plain": [
              "1.7320508075688772"
            ]
          },
          "metadata": {},
          "execution_count": 10
        }
      ]
    },
    {
      "cell_type": "markdown",
      "source": [
        "### **Question 4**\n",
        "\n",
        "Write a program in python to separate odd and even integers in separate arrays. Go  to the editor Test Data :\n",
        "\n",
        "Input the number of elements to be stored in the array :5\n",
        "\n",
        "Input 5 elements in the array :\n",
        "\n",
        "element - 0 : 25\n",
        "\n",
        "element - 1 : 47\n",
        "\n",
        "element - 2 : 42\n",
        "\n",
        "element - 3 : 56\n",
        "\n",
        "element - 4 : 32\n",
        "\n",
        "Expected Output:\n",
        "\n",
        "The Even elements are:\n",
        "\n",
        "42 56 32\n",
        "\n",
        "The Odd elements are :\n",
        "\n",
        "25 47\n"
      ],
      "metadata": {
        "id": "xTPrsuNA_O09"
      }
    },
    {
      "cell_type": "code",
      "source": [
        "# Get the number of elements from the user\n",
        "number_ele = int(input(\"Input the number of elements to be stored in the array: \"))\n",
        "\n",
        "# Initialize an empty list to store the elements\n",
        "elements = []\n",
        "\n",
        "# Get the elements from the user\n",
        "for i in range(number_ele):\n",
        "    element = int(input(f\"Element - {i} : \"))\n",
        "    elements.append(element)\n",
        "\n",
        "# Separate odd and even elements into separate arrays\n",
        "even_elements = [num for num in elements if num % 2 == 0]\n",
        "odd_elements = [num for num in elements if num % 2 != 0]\n",
        "\n",
        "# Print the even elements\n",
        "print(\"The Even elements are:\")\n",
        "print(*even_elements)\n",
        "\n",
        "# Print the odd elements\n",
        "print(\"The Odd elements are:\")\n",
        "print(*odd_elements)\n"
      ],
      "metadata": {
        "colab": {
          "base_uri": "https://localhost:8080/"
        },
        "id": "nqZU7GCO_Gar",
        "outputId": "ea9e1a61-3884-4967-b37f-f60f00cc88d6"
      },
      "execution_count": null,
      "outputs": [
        {
          "output_type": "stream",
          "name": "stdout",
          "text": [
            "Input the number of elements to be stored in the array: 5\n",
            "Element - 0 : 25\n",
            "Element - 1 : 47\n",
            "Element - 2 : 42\n",
            "Element - 3 : 56\n",
            "Element - 4 : 32\n",
            "The Even elements are:\n",
            "42 56 32\n",
            "The Odd elements are:\n",
            "25 47\n"
          ]
        }
      ]
    },
    {
      "cell_type": "markdown",
      "source": [
        "## **Question 5**\n",
        "\n",
        "a. Write a function inside(x,y,x1,y1,x2,y2) that returns True or False\n",
        "depending on whether the point (x,y) lies in the rectangle with lower left\n",
        "corner (x1,y1) and upper right corner (x2,y2).\n",
        "\n",
        "```\n",
        ">>> inside(1,1,0,0,2,3)\n",
        "True\n",
        ">>> inside(-1,-1,0,0,2,3)\n",
        "False\n",
        "```\n",
        "b. Use function inside() from part a. to write an expression that tests whether\n",
        "the point (1,1) lies in both of the following rectangles: one with lower left\n",
        "corner (0.3, 0.5) and upper right corner (1.1, 0.7) and the other with lower\n",
        "left corner (0.5, 0.2) and upper right corner (1.1, 2)."
      ],
      "metadata": {
        "id": "vFW-V5Qf_o6_"
      }
    },
    {
      "cell_type": "code",
      "source": [
        "def inside(x, y, x1, y1, x2, y2):\n",
        "    if x >= x1 and x <= x2 and y >= y1 and y <= y2:\n",
        "        return True\n",
        "    else:\n",
        "        return False\n",
        "\n",
        "# Define the rectangle coordinates\n",
        "rectangle1_x1, rectangle1_y1, rectangle1_x2, rectangle1_y2 = 0.3, 0.5, 1.1, 0.7\n",
        "rectangle2_x1, rectangle2_y1, rectangle2_x2, rectangle2_y2 = 0.5, 0.2, 1.1, 2\n",
        "\n",
        "# Check if (1, 1) is inside both rectangles\n",
        "is_inside_rectangle1 = inside(1, 1, rectangle1_x1, rectangle1_y1, rectangle1_x2, rectangle1_y2)\n",
        "is_inside_rectangle2 = inside(1, 1, rectangle2_x1, rectangle2_y1, rectangle2_x2, rectangle2_y2)\n",
        "\n",
        "# Print the result\n",
        "if is_inside_rectangle1 and is_inside_rectangle2:\n",
        "    print(\"(1, 1) is inside both rectangles\")\n",
        "else:\n",
        "    print(\"(1, 1) is not inside both rectangles\")\n"
      ],
      "metadata": {
        "colab": {
          "base_uri": "https://localhost:8080/"
        },
        "id": "CMNgU0iC_eNi",
        "outputId": "05a15b83-d4fb-4759-a72e-6618540dc1b1"
      },
      "execution_count": null,
      "outputs": [
        {
          "output_type": "stream",
          "name": "stdout",
          "text": [
            "(1, 1) is not inside both rectangles\n"
          ]
        }
      ]
    },
    {
      "cell_type": "markdown",
      "source": [
        "### **Question 6**\n",
        "\n",
        "You can turn a word into pig-Latin using the following two rules (simplified):\n",
        "\n",
        "* If the word starts with a consonant, move that letter to the end and append\n",
        "'ay'. For example, 'happy' becomes 'appyhay' and 'pencil' becomes 'encilpay'.\n",
        "\n",
        "* If the word starts with a vowel, simply append 'way' to the end of the word.\n",
        "For example, 'enter' becomes 'enterway' and 'other' becomes 'otherway' . For\n",
        "our purposes, there are 5 vowels: a, e, i, o, u (so we count y as a consonant).\n",
        "\n",
        "Write a function pig() that takes a word (i.e., a string) as input and returns its pig\u0002Latin form. Your function should still work if the input word contains upper case\n",
        "characters. Your output should always be lower case however."
      ],
      "metadata": {
        "id": "M2xYk-chA5GP"
      }
    },
    {
      "cell_type": "code",
      "source": [
        "def pig(word):\n",
        "    vowels = ['a', 'e', 'i', 'o', 'u']\n",
        "    word = word.lower()  # Convert word to lowercase\n",
        "\n",
        "    # Check if the word starts with a vowel\n",
        "    if word[0] in vowels:\n",
        "        return word + 'way'\n",
        "\n",
        "    # Check if the word starts with a consonant\n",
        "    for i in range(len(word)):\n",
        "        if word[i] in vowels:\n",
        "            return word[i:] + word[:i] + 'ay'\n",
        "\n",
        "    # If the word doesn't start with a vowel or a consonant, return the word as is\n",
        "    return word\n",
        "\n",
        "# Test the function\n",
        "print(pig('happy'))   # Output: appyhay\n",
        "print(pig('pencil'))  # Output: encilpay\n",
        "print(pig('enter'))   # Output: enterway\n",
        "print(pig('other'))   # Output: otherway\n"
      ],
      "metadata": {
        "colab": {
          "base_uri": "https://localhost:8080/"
        },
        "id": "101LNN92Avl0",
        "outputId": "f10d403c-4286-4852-a2ef-6a12a529f758"
      },
      "execution_count": null,
      "outputs": [
        {
          "output_type": "stream",
          "name": "stdout",
          "text": [
            "appyhay\n",
            "encilpay\n",
            "enterway\n",
            "otherway\n"
          ]
        }
      ]
    },
    {
      "cell_type": "markdown",
      "source": [
        "## **Question 7**\n",
        "\n",
        "File bloodtype1.txt records blood-types of patients (A, B, AB, O or OO) at a clinic.\n",
        "\n",
        "Write a function bldcount() that reads the file with name *name* and reports (i.e., prints) how many patients there are in each bloodtype.\n",
        "\n",
        "\n",
        "\n",
        "```\n",
        ">>> bldcount('bloodtype.txt')\n",
        "There are 10 patients of blood type A.\n",
        "There is one patient of blood type B.\n",
        "There are 10 patients of blood type AB.\n",
        "There are 12 patients of blood type O.\n",
        "There are no patients of blood type OO.\n",
        "\n",
        "```\n",
        "\n"
      ],
      "metadata": {
        "id": "S-essPxZBJ54"
      }
    },
    {
      "cell_type": "code",
      "source": [
        "def bldcount(filename):\n",
        "    blood_types = ['A', 'B', 'AB', 'O', 'OO']\n",
        "    count = {blood_type: 0 for blood_type in blood_types}\n",
        "\n",
        "    with open(filename, 'r') as file:\n",
        "        blood_type_entries = file.read().split()\n",
        "        for blood_type in blood_type_entries:\n",
        "            if blood_type in blood_types:\n",
        "                count[blood_type] += 1\n",
        "\n",
        "    for blood_type, patient_count in count.items():\n",
        "        if patient_count == 1:\n",
        "            print(f\"There is one patient of blood type {blood_type}.\")\n",
        "        else:\n",
        "            print(f\"There are {patient_count} patients of blood type {blood_type}.\")\n",
        "\n",
        "bldcount('bloodtype1.txt')\n"
      ],
      "metadata": {
        "id": "ckzRDOe0BFXT",
        "colab": {
          "base_uri": "https://localhost:8080/"
        },
        "outputId": "59735a79-d060-4ad5-fd59-90a1bf991f6c"
      },
      "execution_count": 20,
      "outputs": [
        {
          "output_type": "stream",
          "name": "stdout",
          "text": [
            "There are 15 patients of blood type A.\n",
            "There is one patient of blood type B.\n",
            "There are 13 patients of blood type AB.\n",
            "There are 15 patients of blood type O.\n",
            "There are 0 patients of blood type OO.\n"
          ]
        }
      ]
    },
    {
      "cell_type": "markdown",
      "source": [
        "## **Question 8**\n",
        "\n",
        "Write a function curconv() that takes as input:\n",
        "\n",
        "\n",
        "1.   a currency represented using a string (e.g., 'JPY' for the Japanese Yen or\n",
        "'EUR' for the Euro)\n",
        "2.   an amount\n",
        "\n",
        "and then converts and returns the amount in US dollars.\n",
        "\n",
        "\n",
        "\n",
        "```\n",
        ">>> curconv('EUR', 100)\n",
        "122.96544\n",
        ">>> curconv('JPY', 100)\n",
        "1.241401\n",
        "```\n",
        "The currency rates you will need are stored in file currencies.txt:\n",
        "\n",
        "\n",
        "```\n",
        "AUD 1.0345157 Australian Dollar\n",
        "CHF 1.0237414 Swiss Franc\n",
        "CNY 0.1550176 Chinese Yuan\n",
        "\n",
        "```\n",
        "\n",
        "\n",
        "\n",
        "\n"
      ],
      "metadata": {
        "id": "BUp5l_5IGeAe"
      }
    },
    {
      "cell_type": "code",
      "source": [
        "def curconv(currency, amount):\n",
        "    rates = {}\n",
        "\n",
        "    with open('currencies.txt', 'r') as file:\n",
        "        for line in file:\n",
        "            tokens = line.strip().split()\n",
        "            currency_code = tokens[0]\n",
        "            rate = float(tokens[1])\n",
        "            rates[currency_code] = rate\n",
        "\n",
        "    if currency in rates:\n",
        "        usd_amount = amount * rates[currency]\n",
        "        return usd_amount\n",
        "    else:\n",
        "        return \"Currency not found in the rates.\"\n",
        "\n",
        "# Example usage:\n",
        "print(curconv('EUR', 100))\n",
        "print(curconv('JPY', 100))\n"
      ],
      "metadata": {
        "id": "VKOr7u8CE9XJ",
        "colab": {
          "base_uri": "https://localhost:8080/"
        },
        "outputId": "5f04a4a2-da50-4cb7-cb89-d67e77154bc7"
      },
      "execution_count": 21,
      "outputs": [
        {
          "output_type": "stream",
          "name": "stdout",
          "text": [
            "122.96544\n",
            "1.241401\n"
          ]
        }
      ]
    },
    {
      "cell_type": "markdown",
      "source": [
        "## **Question 9**\n",
        "\n",
        "Each of the following will cause an exception (an error). Identify what type of\n",
        "exception each will cause.\n",
        "\n",
        "Trying to add incompatible variables, as in\n",
        "adding 6 + ‘a’\n",
        "\n",
        "Referring to the 12th item of a list that has only 10\n",
        "items\n",
        "\n",
        "Using a value that is out of range for a function’s input, such as calling math.sqrt(-1.0)\n",
        "\n",
        "Using an undeclared variable, such as print(x) when x has not been defined\n",
        "\n",
        "Trying to open a file that does not exist, such as mistyping the file name or looking in the wrong directory."
      ],
      "metadata": {
        "id": "nmBd6hCqGpL5"
      }
    },
    {
      "cell_type": "markdown",
      "source": [
        "1. Trying to add incompatible variables, as in adding 6 + 'a':\n",
        "This will cause a TypeError exception because you cannot add a numeric value (6) with a string value ('a'). The TypeError indicates an operation or function is applied to an object of inappropriate type.\n",
        "\n",
        "2. Referring to the 12th item of a list that has only 10 items:\n",
        "This will cause an IndexError exception because you're trying to access an index that is outside the range of the list. The IndexError indicates an attempt to access an invalid index of a sequence.\n",
        "\n",
        "3. Using a value that is out of range for a function's input, such as calling math.sqrt(-1.0):\n",
        "This will cause a ValueError exception because the math.sqrt() function expects a non-negative value for the square root calculation. The ValueError indicates that a function's argument is of the correct type but is an inappropriate value.\n",
        "\n",
        "4. Using an undeclared variable, such as print(x) when x has not been defined:\n",
        "This will cause a NameError exception because the variable x is referenced before it is defined or declared. The NameError indicates that a local or global name is not found.\n",
        "\n",
        "5. Trying to open a file that does not exist, such as mistyping the file name or looking in the wrong directory:\n",
        "This will cause a FileNotFoundError exception because the file you are trying to open does not exist in the specified location. The FileNotFoundError indicates that a file or directory cannot be found.\n",
        "\n"
      ],
      "metadata": {
        "id": "dbBT_9iHG7D2"
      }
    },
    {
      "cell_type": "markdown",
      "source": [
        "## **Question 10**\n",
        "\n",
        "Encryption is the process of hiding the meaning of a text by substituting letters in the\n",
        "message with other letters, according to some system. If the process is successful, no\n",
        "one but the intended recipient can understand the encrypted message. Cryptanalysis\n",
        "refers to attempts to undo the encryption, even if some details of the encryption are\n",
        "unknown (for example, if an encrypted message has been intercepted). The first step\n",
        "of cryptanalysis is often to build up a table of letter frequencies in the encrypted text.\n",
        "Assume that the string letters is already defined as\n",
        "'abcdefghijklmnopqrstuvwxyz'. Write a function called frequencies()\n",
        "that takes a string as its only parameter, and returns a list of integers, showing the\n",
        "number of times each character appears in the text. Your function may ignore any\n",
        "characters that are not in letters.\n",
        "\n",
        "\n",
        "\n",
        "```\n",
        ">>> frequencies('The quick red fox got bored and went home.')\n",
        "[1, 1, 1, 3, 5, 1, 1, 2, 1, 0, 1, 0, 1, 2, 4, 0, 1, 2, 0, 2,\n",
        "1, 0, 1, 1, 0, 0]\n",
        ">>> frequencies('apple')\n",
        "```\n",
        "\n"
      ],
      "metadata": {
        "id": "zb2zBHeAHL7g"
      }
    },
    {
      "cell_type": "code",
      "source": [
        "def frequencies(text):\n",
        "    letters = 'abcdefghijklmnopqrstuvwxyz'\n",
        "    counts = {letter: 0 for letter in letters}\n",
        "\n",
        "    for char in text.lower():\n",
        "        if char in counts:\n",
        "            counts[char] += 1\n",
        "\n",
        "    return list(counts.values())\n",
        "\n",
        "# Example usage:\n",
        "print(frequencies('The quick red fox got bored and went home.'))\n",
        "print(frequencies('apple'))\n"
      ],
      "metadata": {
        "colab": {
          "base_uri": "https://localhost:8080/"
        },
        "id": "9c_-rAouGj8-",
        "outputId": "87fa0262-1dd8-4299-902a-14db25601e65"
      },
      "execution_count": 22,
      "outputs": [
        {
          "output_type": "stream",
          "name": "stdout",
          "text": [
            "[1, 1, 1, 3, 5, 1, 1, 2, 1, 0, 1, 0, 1, 2, 4, 0, 1, 2, 0, 3, 1, 0, 1, 1, 0, 0]\n",
            "[1, 0, 0, 0, 1, 0, 0, 0, 0, 0, 0, 1, 0, 0, 0, 2, 0, 0, 0, 0, 0, 0, 0, 0, 0, 0]\n"
          ]
        }
      ]
    },
    {
      "cell_type": "code",
      "source": [],
      "metadata": {
        "id": "vARSQ8QOHVkh"
      },
      "execution_count": null,
      "outputs": []
    }
  ]
}